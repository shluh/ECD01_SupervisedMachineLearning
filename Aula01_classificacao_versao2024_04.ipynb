{
  "nbformat": 4,
  "nbformat_minor": 0,
  "metadata": {
    "colab": {
      "provenance": [],
      "private_outputs": true,
      "toc_visible": true,
      "include_colab_link": true
    },
    "kernelspec": {
      "name": "python3",
      "display_name": "Python 3"
    },
    "language_info": {
      "name": "python"
    },
    "gpuClass": "standard"
  },
  "cells": [
    {
      "cell_type": "markdown",
      "metadata": {
        "id": "view-in-github",
        "colab_type": "text"
      },
      "source": [
        "<a href=\"https://colab.research.google.com/github/shluh/ECD01_SupervisedMachineLearning/blob/main/Aula01_classificacao_versao2024_04.ipynb\" target=\"_parent\"><img src=\"https://colab.research.google.com/assets/colab-badge.svg\" alt=\"Open In Colab\"/></a>"
      ]
    },
    {
      "cell_type": "markdown",
      "source": [
        "### Disciplina ECD01 - Aprendizado Supervisionado\n",
        "#### Prof. Anderson Rocha Tavares (artavares@inf.ufrgs.br)\n",
        "\n",
        "#### *Créditos pelo material: Profa. Mariana Recamonde-Mendoza (http://inf.ufrgs.br/~mrmendoza)*\n",
        "\n",
        "\n",
        "**Importante:** sempre faça uma cópia do colab (Arquivo -> Salvar uma cópia no drive) ao começar o exercício. Caso contrário, suas alterações não são salvas.\n",
        "\n",
        "\n"
      ],
      "metadata": {
        "id": "qU2qfY6RPe4f"
      }
    },
    {
      "cell_type": "markdown",
      "source": [
        "\n",
        "## **Aula 01** - **Tópico: Aprendizado Supervisionado / Classificação**\n",
        "\n",
        "<br>\n",
        "\n",
        "**Classificação** é a tarefa de designar um objeto a uma dentre diversas categorias (_i.e._, classes) pré-definidas, com base em seus atributos conhecidos. Em Aprendizado de Máquina (AM), a classificação é realizada por meio de algoritmos de _aprendizado supervisionado_. Estes algoritmos recebem um conjunto de exemplos rotulados (isto é, contendo o par \\<entrada, saída esperada\\>), e treinam um modelo para aprender um \"mapeamento\" entre os atributos da entrada e a saída esperada, podendo ser posteriormente utilizado para prever o rótulo de novos exemplos.\n",
        "\n",
        "<br>\n",
        "\n",
        "**Objetivo deste notebook**: entender o conceito de aprendizado indutivo e supervisionado, através da solução de uma tarefa simples de classificação.\n",
        "\n",
        "**Dê dois cliques em uma célula de texto para editar (e.g. para escrever suas respostas)**\n",
        "\n",
        "<br>\n",
        "\n",
        "Caso não esteja familiarizado(a) com o uso do Google Colab, recomendo que assista este [vídeo.](https://youtu.be/inN8seMm7UI)\n",
        "\n",
        "---\n"
      ],
      "metadata": {
        "id": "dgNJG5z22ID8"
      }
    },
    {
      "cell_type": "markdown",
      "source": [
        "*Sobre a nomenclatura usada*: os *exemplos* ou *instâncias* são  sinônimos e se referem a uma entrada - isto é, uma linha do conjunto de dados, representado como uma tabela.\n",
        "\n",
        "O termo *atributos* se refere às coluna da tabela, que representam as características ou variáveis dos dados de entrada. A coluna que contém a saída esperada será chamada de *atributo alvo* ou *rótulo*.\n",
        "\n",
        "Para problemas de classificação, o termo *classe* será adotado como um sinônimo para rótulo."
      ],
      "metadata": {
        "id": "wZTIydiEL9vb"
      }
    },
    {
      "cell_type": "markdown",
      "source": [
        "\n",
        "##**Laranja ou limão siciliano?**\n",
        "\n",
        "\n"
      ],
      "metadata": {
        "id": "va88t5ROH6Dt"
      }
    },
    {
      "cell_type": "markdown",
      "source": [
        "Classificar visualmente uma fruta entre laranja e limão siciliano é algo intuitivo para nós (humanos). Como ensinar o computador a fazer esta classificação de forma automática, sem intervenção humana?\n",
        "\n",
        "\n",
        "Este notebook usará como base um dataset criado pelo [Dr. Iain Murray](https://homepages.inf.ed.ac.uk/imurray2/) (University of Edinburgh), contendo características como a altura (cm), largura (cm) e massa (g) de uma seleção de laranjas e limões sicilianos, quantificadas pelo próprio Dr. Murray. A partir destes dados, discutiremos o processo de criar um classificador para determinar qual a fruta (laranja ou limão siciliano?) com base nas características informadas. Assim, cada fruta é uma instância no dataset, e os atributos são dados pelas respectivas altura, largura e massa.\n"
      ],
      "metadata": {
        "id": "CLe2YXhBjJWm"
      }
    },
    {
      "cell_type": "markdown",
      "source": [
        "\n",
        "---\n",
        "\n",
        "###Carregando e inspecionando os dados\n",
        "\n",
        "Primeiramente, vamos carregar algumas bibliotecas importantes do Python e os dados a serem utilizados neste estudo. Os dados são disponibilizados através de um link, que também pode ser diretamente acessado pelos alunos."
      ],
      "metadata": {
        "id": "5WiW01c4MV4q"
      }
    },
    {
      "cell_type": "code",
      "source": [
        "## Carregando as bibliotecas necessárias\n",
        "# A primeira linha é incluída para gerar os gráficos logo abaixo dos comandos de plot\n",
        "%matplotlib inline\n",
        "import pandas as pd             # biblioteca para análise de dados\n",
        "import matplotlib.pyplot as plt # biblioteca para visualização de informações\n",
        "import seaborn as sns           # biblioteca para visualização de informações\n",
        "import numpy as np              # biblioteca para operações com arrays multidimensionais\n",
        "sns.set()\n"
      ],
      "metadata": {
        "id": "XfWegvpcKmnB"
      },
      "execution_count": null,
      "outputs": []
    },
    {
      "cell_type": "code",
      "execution_count": null,
      "metadata": {
        "id": "3GAkIN7i8cs4"
      },
      "outputs": [],
      "source": [
        "fruits = pd.read_table(\"https://drive.google.com/uc?export=view&id=1wQJ5H0UMZLDj2ZjnbnHUzEnG4YxcQ-cQ\")\n",
        "fruits.head()  # para visualizar apenas as 5 primeiras linhas\n",
        "## fruits      # para visualizar o dataframe completo"
      ]
    },
    {
      "cell_type": "markdown",
      "source": [
        "A classe de cada instância está codificada de duas formas, através de um número (*'fruit_label'*) e através de uma string (*'fruit_name'*). Por enquanto manteremos as duas.\n",
        "\n",
        "Vamos verificar a seguir quais os valores únicos da coluna fruit_name (esperado: orange/lemon) e quantos exemplos temos para cada classe."
      ],
      "metadata": {
        "id": "ijyMlQqgrOay"
      }
    },
    {
      "cell_type": "code",
      "source": [
        "## nome das frutas existentes no arquivo (coluna fruit_name)\n",
        "print(fruits['fruit_name'].unique())"
      ],
      "metadata": {
        "id": "JoTtbAWGIT2Y"
      },
      "execution_count": null,
      "outputs": []
    },
    {
      "cell_type": "code",
      "source": [
        "## número de exemplos por classe\n",
        "print(fruits.groupby('fruit_name').size())"
      ],
      "metadata": {
        "id": "do7cKAl3IgA5"
      },
      "execution_count": null,
      "outputs": []
    },
    {
      "cell_type": "markdown",
      "source": [
        "Vamos fazer uma breve inspeção destes dados. O método `info()` é útil para obter uma descrição geral do dataframe, como tamanho, índices e nomes das colunas, os respectivos tipos de dados e o número de valores não-nulos."
      ],
      "metadata": {
        "id": "PVUL6MoEskGs"
      }
    },
    {
      "cell_type": "code",
      "source": [
        "fruits.info()"
      ],
      "metadata": {
        "id": "yyCIBK2us0FC"
      },
      "execution_count": null,
      "outputs": []
    },
    {
      "cell_type": "markdown",
      "source": [
        "**Responda >>>** Quantas instâncias e quantos atributos existem nos dados? Os atributos possuem valores nulos? São numéricos ou categóricos?"
      ],
      "metadata": {
        "id": "ZdSabLlItKxM"
      }
    },
    {
      "cell_type": "markdown",
      "source": [
        "> ***Sua resposta aqui:***\n"
      ],
      "metadata": {
        "id": "-hJ50KovtKnO"
      }
    },
    {
      "cell_type": "markdown",
      "source": [
        "Podemos também analisar a distribuição de valores para atributos **numéricos**, usando o método` describe()`. O atributo *'fruit_label'* é removido da análise pois embora seja um atributo numérico, ele representa a classe do problema e seus valores devem ser interpretados como categorias."
      ],
      "metadata": {
        "id": "DitIDiSTtat-"
      }
    },
    {
      "cell_type": "code",
      "source": [
        "fruits.drop(['fruit_label'],axis=1).describe()"
      ],
      "metadata": {
        "id": "Lh8a8q6mtDSw"
      },
      "execution_count": null,
      "outputs": []
    },
    {
      "cell_type": "markdown",
      "source": [
        "Uma forma mais fácil e intuitiva de analisar a distribuição de valores para cada atributo é através do uso de histogramas. Para tanto, utilizaremos o método `hist()`. Novamente iremos ignorar a coluna do atributo *'fruit_label'* nesta análise."
      ],
      "metadata": {
        "id": "lN8qCydwwBy2"
      }
    },
    {
      "cell_type": "code",
      "source": [
        "fruits.drop(['fruit_label'],axis=1).hist(bins=15, figsize=(15,10))\n",
        "plt.show() # este comando é opcional em notebooks, pois os gráficos são automaticamente mostrados quando uma célula é executada"
      ],
      "metadata": {
        "id": "_YX844Qjtxmk"
      },
      "execution_count": null,
      "outputs": []
    },
    {
      "cell_type": "markdown",
      "source": [
        "Com o histograma e a sumarização das distribuições dos atributos pelo método `describe()`, já podemos observar algumas características que podem ser relevantes em relação aos dados.\n"
      ],
      "metadata": {
        "id": "ovzIESR2t-Yn"
      }
    },
    {
      "cell_type": "markdown",
      "source": [
        "Também podemos fazer a análise da distribuição dos valores dos atributos **por classe**. Execute o exemplo abaixo. Em seguida, adapte o código para fazer a mesma análise para os demais atributos."
      ],
      "metadata": {
        "id": "LpcZc7Gg1Id1"
      }
    },
    {
      "cell_type": "code",
      "source": [
        "x1 = fruits.loc[fruits.fruit_name=='orange', 'mass']\n",
        "x2 = fruits.loc[fruits.fruit_name=='lemon', 'mass']\n",
        "\n",
        "kwargs = dict(alpha=0.5, bins=10) # parametros de visualizacao do histograma\n",
        "\n",
        "plt.hist(x1, **kwargs, color='g', label='Orange')\n",
        "plt.hist(x2, **kwargs, color='b', label='Lemon')\n",
        "plt.gca().set(title='Frequency Histogram', ylabel='Frequency')\n",
        "plt.legend()"
      ],
      "metadata": {
        "id": "VgzegL4nyhMG"
      },
      "execution_count": null,
      "outputs": []
    },
    {
      "cell_type": "markdown",
      "source": [
        "\n",
        "**Responda >>>** Com o código acima, faça a análise para os quatro atributos existentes. Algum destes atributos parece ter um maior potencial na tarefa de distinguir uma nova fruta entre laranja e limão siciliano? Comente a respeito.\n",
        "\n"
      ],
      "metadata": {
        "id": "HSpZ0-7Y1d_q"
      }
    },
    {
      "cell_type": "markdown",
      "source": [
        "> ***Sua resposta aqui:***"
      ],
      "metadata": {
        "id": "uidTBCPeuFGB"
      }
    },
    {
      "cell_type": "markdown",
      "source": [
        "\n",
        "\n",
        "---\n",
        "\n",
        "\n",
        "### Visualizando os dados"
      ],
      "metadata": {
        "id": "n3oqRWko5zCf"
      }
    },
    {
      "cell_type": "markdown",
      "source": [
        "Para discutirmos a ideia de classificação e entendermos o seu funcionamento com este dataset, vamos assumir que o vetor de atributos que descreve cada um dos exemplos disponíveis tem apenas duas dimensões: **altura (height)** e **largura (width)**. Podemos facilmente visualizar nosso problema de classificação no seu espaço de entrada, seguindo exemplo discutido em aula."
      ],
      "metadata": {
        "id": "Z6DZJOcU98e6"
      }
    },
    {
      "cell_type": "code",
      "source": [
        "plt.figure(figsize=(8, 6))\n",
        "sns.scatterplot(x='width', y='height', data=fruits, hue='fruit_name', s=60)\n",
        "plt.legend(loc='lower right', title='Fruit')\n",
        "plt.show()"
      ],
      "metadata": {
        "id": "13wv3HrlJw2F"
      },
      "execution_count": null,
      "outputs": []
    },
    {
      "cell_type": "markdown",
      "source": [
        "**Responda >>>** Este problema de classificação é linearmente separável?\n",
        "\n"
      ],
      "metadata": {
        "id": "ZXcRtP-tBC6d"
      }
    },
    {
      "cell_type": "markdown",
      "source": [
        "> ***Sua resposta aqui:***"
      ],
      "metadata": {
        "id": "XicXYenGuQ9d"
      }
    },
    {
      "cell_type": "markdown",
      "source": [
        "\n",
        "---\n",
        "\n",
        "\n",
        "### Definindo uma fronteira de decisão linear\n",
        "\n",
        "Para o problema de classificação *Laranja ou limão siciliano?*, vamos assumir que desejamos definir manualmente uma fronteira de decisão linear a partir dos atributos de **altura** e **largura**.\n",
        "\n",
        "O gráfico abaixo é interativo e ele possui sliders de controle para ajustar os dois coeficientes de uma equação reduzida da reta\n",
        "$ax + b$, onde $a$ é a inclinação da reta e $b$ o  intercepto. A partir da determinação de a e b, podemos definir uma fronteira de decisão linear representando o nosso classificador. A partir da fronteira de decisão, a região ganha o rótulo da classe majoritária nela."
      ],
      "metadata": {
        "id": "MT3BrXXJDNTm"
      }
    },
    {
      "cell_type": "markdown",
      "source": [
        "**Experimente >>>** Faça ajustes nos sliders até encontrar uma fronteira de decisão que você julgue separar bem as classes. Informe os valores de $a$ e $b$ da sua equação."
      ],
      "metadata": {
        "id": "MzEqD6lSublf"
      }
    },
    {
      "cell_type": "markdown",
      "source": [
        "> ***Sua resposta aqui:***"
      ],
      "metadata": {
        "id": "2iDYwdQZuUsR"
      }
    },
    {
      "cell_type": "code",
      "source": [
        "%matplotlib inline\n",
        "from ipywidgets import interactive\n",
        "\n",
        "\n",
        "def plot_interactive1(a=0, b=8.5):\n",
        "    x = np.linspace(5, 10.5, num=1000)\n",
        "    plt.figure(figsize=(8, 6))\n",
        "    g=plt.scatter(x='width', y='height', data=fruits, c='fruit_label',cmap=\"Accent\",s=45)\n",
        "    plt.plot(x, a * x + b)\n",
        "    plt.ylim(6, 11)\n",
        "    plt.xlabel('Width')\n",
        "    plt.ylabel('Height')\n",
        "    plt.legend(handles=g.legend_elements()[0],labels=('orange','lemon'))\n",
        "\n",
        "    plt.show()\n",
        "\n",
        "interactive_plot = interactive(plot_interactive1, a=(-3.0, 3.0,0.05), b=(-12, 12, 0.05))\n",
        "output = interactive_plot.children[-1]\n",
        "output.layout.height = '400px'\n",
        "interactive_plot"
      ],
      "metadata": {
        "id": "dRkaInJwMlvf"
      },
      "execution_count": null,
      "outputs": []
    },
    {
      "cell_type": "markdown",
      "source": [
        "\n",
        "**Experimente >>>** No código abaixo, customize os valores de $a$ e $b$ de acordo com a sua função da fronteira de decisão (exercício anterior). Você pode utilizar o formulário à direita para ajustar estes valores. Em seguida, determine qual classe seria retornada pelo modelo (representado pela sua fronteira de decisão) para os novos dados informados.\n",
        "**OBS.:** São três novas instâncias que precisam ser analisadas. Descomente uma de cada vez, execute o código, analise a posição da instância e responda a questão."
      ],
      "metadata": {
        "id": "83R_VhNW9aQx"
      }
    },
    {
      "cell_type": "markdown",
      "source": [
        "> ***Sua resposta aqui:***"
      ],
      "metadata": {
        "id": "HVABxV_DvheF"
      }
    },
    {
      "cell_type": "code",
      "source": [
        "## Definindo entrada de valores a partir do form para os coeficientes da equação\n",
        "a =  0#@param {type:\"number\"}\n",
        "b =  8.5#@param {type:\"number\"}\n",
        "\n",
        "## Nas linhas abaixo, descomente uma por vez para visualizar a projeção do novo ponto\n",
        "## no espaço de entrada. Após definir a classe predita pelo modelo, comenta a linha\n",
        "## analisada e descomente a próxima. Você irá visualizar e analisar um ponto de cada vez.\n",
        "new_data = [7.5,10.5] ## novo dado #1\n",
        "#new_data = [6.65,7.6] ## novo dado #2\n",
        "#new_data = [6.0,7.0] ## novo dado #3\n",
        "\n",
        "\n",
        "def plot_newdatapoint(a=a,b=b,xt=new_data[0],yt=new_data[1]):\n",
        "    x = np.linspace(5, 10.5, num=1000)\n",
        "    plt.figure(figsize=(8, 6))\n",
        "    g=plt.scatter(x='width', y='height', data=fruits, c='fruit_label',cmap=\"Accent\",s=45)\n",
        "    plt.plot(x, a * x + b)\n",
        "    plt.plot(xt,yt,'ro')\n",
        "    plt.ylim(6, 11)\n",
        "    plt.xlabel('Width')\n",
        "    plt.ylabel('Height')\n",
        "    plt.legend(handles=g.legend_elements()[0],labels=('orange','lemon'))\n",
        "\n",
        "plot_newdatapoint()"
      ],
      "metadata": {
        "id": "WVkT141IHn3j"
      },
      "execution_count": null,
      "outputs": []
    },
    {
      "cell_type": "markdown",
      "source": [
        "\n",
        "---\n",
        "\n",
        "\n",
        "### Fronteiras de decisão não-lineares\n",
        "\n",
        "A grande maioria dos problemas de classificação  possuem demanda fronteiras não-lineares.\n",
        "\n",
        "Veja, por exemplo, o problema de classificação abaixo, no qual idade e renda são utilizados como preditores para o tipo de serviço adquirido (básico ou premium). A imagem foi extraída [desta fonte](https://docs.microsoft.com/pt-br/azure/machine-learning/how-to-select-algorithms)."
      ],
      "metadata": {
        "id": "mrtTsz4qszpY"
      }
    },
    {
      "cell_type": "markdown",
      "source": [
        "\n",
        "<img src=\"https://drive.google.com/uc?export=view&id=1w_uNHllvFga79WCeOtCrv6gjHx-0o3jT\"\n",
        "    style=\"width: 700px; max-width: 100%; height: auto\"/>\n",
        "  "
      ],
      "metadata": {
        "id": "kgQU61wwPP62"
      }
    },
    {
      "cell_type": "markdown",
      "source": [
        "A partir da próxima aula vamos começar a discutir algoritmos de aprendizado supervisionado que são capazes de gerar fronteiras de decisão não-lineares."
      ],
      "metadata": {
        "id": "bKy3lZ-pAt3y"
      }
    },
    {
      "cell_type": "markdown",
      "source": [
        "## Instruções para a entrega das atividades práticas:\n",
        "\n",
        "Todos os exercícios da disciplina serão desenvolvidos no Google Colab. Ao final de cada atividade prática,  você deverá entregar as suas respostas para as atividades propostas ao longo da atividade. A entrega será baseada na exportação do seu notebook e será feita pelo link indicado no Moodle. Você deve sempre o arquivo `.ipynb`, que pode ser exportado desse colab da seguinte forma:\n",
        "\n",
        "*   File > Download .ipynb\n",
        "\n",
        "\n",
        "\n"
      ],
      "metadata": {
        "id": "mvVdFzfgtCTX"
      }
    }
  ]
}